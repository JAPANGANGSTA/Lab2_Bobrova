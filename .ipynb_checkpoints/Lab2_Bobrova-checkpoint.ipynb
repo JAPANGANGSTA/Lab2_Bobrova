{
 "cells": [
  {
   "cell_type": "code",
   "execution_count": 1,
   "id": "0a916f63-1303-4563-a292-fc8739be102b",
   "metadata": {},
   "outputs": [],
   "source": [
    "import numpy as np"
   ]
  },
  {
   "cell_type": "code",
   "execution_count": 2,
   "id": "4e34acd5-cc15-45a9-9428-47d4d785fcf1",
   "metadata": {},
   "outputs": [
    {
     "name": "stdout",
     "output_type": "stream",
     "text": [
      "[  5  10  15  20  25  30  35  40  45  50  55  60  65  70  75  80  85  90\n",
      "  95 100]\n"
     ]
    }
   ],
   "source": [
    "my_array= np.arange(5, 105, 5)\n",
    "print(my_array)"
   ]
  },
  {
   "cell_type": "code",
   "execution_count": 3,
   "id": "9ceca848-6c71-46a0-b7fa-a0867f6adb8a",
   "metadata": {},
   "outputs": [
    {
     "name": "stdout",
     "output_type": "stream",
     "text": [
      "[ 10  20  30  40  50  60  70  80  90 100]\n"
     ]
    }
   ],
   "source": [
    "my_array_ten=my_array[my_array%10==0]\n",
    "print(my_array_ten)"
   ]
  },
  {
   "cell_type": "code",
   "execution_count": 4,
   "id": "2a422e4a-d022-48ea-bf30-f6405ad8a623",
   "metadata": {},
   "outputs": [
    {
     "name": "stdout",
     "output_type": "stream",
     "text": [
      "[[  5  10]\n",
      " [ 15  20]\n",
      " [ 25  30]\n",
      " [ 35  40]\n",
      " [ 45  50]\n",
      " [ 55  60]\n",
      " [ 65  70]\n",
      " [ 75  80]\n",
      " [ 85  90]\n",
      " [ 95 100]]\n"
     ]
    }
   ],
   "source": [
    "my_array_2_column = my_array.reshape(-1,2)\n",
    "print(my_array_2_column)"
   ]
  },
  {
   "cell_type": "code",
   "execution_count": 5,
   "id": "06000822-1fb7-4b36-8820-9545a974e3da",
   "metadata": {},
   "outputs": [
    {
     "name": "stdout",
     "output_type": "stream",
     "text": [
      "[[ 0  5]\n",
      " [10 15]\n",
      " [20 25]\n",
      " [30 35]\n",
      " [40 45]\n",
      " [50 55]\n",
      " [60 65]\n",
      " [70 75]\n",
      " [80 85]\n",
      " [90 95]]\n"
     ]
    }
   ],
   "source": [
    "my_array2 = my_array_2_column - 5\n",
    "print(my_array2)"
   ]
  },
  {
   "cell_type": "code",
   "execution_count": 6,
   "id": "986de037-16df-4aeb-b98e-b865c0321bfd",
   "metadata": {},
   "outputs": [
    {
     "name": "stdout",
     "output_type": "stream",
     "text": [
      "[[  5  10   0   5]\n",
      " [ 15  20  10  15]\n",
      " [ 25  30  20  25]\n",
      " [ 35  40  30  35]\n",
      " [ 45  50  40  45]\n",
      " [ 55  60  50  55]\n",
      " [ 65  70  60  65]\n",
      " [ 75  80  70  75]\n",
      " [ 85  90  80  85]\n",
      " [ 95 100  90  95]]\n"
     ]
    }
   ],
   "source": [
    "new_array = np.hstack((my_array_2_column, my_array2))\n",
    "print(new_array)"
   ]
  },
  {
   "cell_type": "code",
   "execution_count": 7,
   "id": "c4461856-0318-4d4b-a369-98a93882b145",
   "metadata": {},
   "outputs": [
    {
     "name": "stdout",
     "output_type": "stream",
     "text": [
      "[0.42857143 0.5        0.33333333 0.42857143]\n",
      "[0.42857143 0.5        0.33333333 0.42857143]\n"
     ]
    }
   ],
   "source": [
    "divide1 = new_array[1]/new_array[3]\n",
    "divide2 = new_array[1]/new_array[3]\n",
    "print(divide1)\n",
    "print(divide2)"
   ]
  },
  {
   "cell_type": "code",
   "execution_count": 8,
   "id": "68a6e68d-3f43-4b6d-855a-1df5c5a3d9ed",
   "metadata": {},
   "outputs": [
    {
     "name": "stdout",
     "output_type": "stream",
     "text": [
      "[[  5.          10.           0.           5.        ]\n",
      " [  0.42857143   0.5          0.33333333   0.42857143]\n",
      " [  0.42857143   0.5          0.33333333   0.42857143]\n",
      " [ 35.          40.          30.          35.        ]\n",
      " [ 45.          50.          40.          45.        ]\n",
      " [ 55.          60.          50.          55.        ]\n",
      " [ 65.          70.          60.          65.        ]\n",
      " [ 75.          80.          70.          75.        ]\n",
      " [ 85.          90.          80.          85.        ]\n",
      " [ 95.         100.          90.          95.        ]]\n"
     ]
    }
   ],
   "source": [
    "new_array_2 = new_array.copy().astype(float)\n",
    "new_array_2[1]= divide1\n",
    "new_array_2[2]= divide2\n",
    "print(new_array_2)"
   ]
  },
  {
   "cell_type": "code",
   "execution_count": 9,
   "id": "7b2314cb-16bd-4944-b594-ff6fe865877c",
   "metadata": {},
   "outputs": [
    {
     "name": "stdout",
     "output_type": "stream",
     "text": [
      "[[  5.  10.   0.   5.]\n",
      " [ 35.  40.  30.  35.]\n",
      " [ 45.  50.  40.  45.]\n",
      " [ 55.  60.  50.  55.]\n",
      " [ 65.  70.  60.  65.]\n",
      " [ 75.  80.  70.  75.]\n",
      " [ 85.  90.  80.  85.]\n",
      " [ 95. 100.  90.  95.]]\n"
     ]
    }
   ],
   "source": [
    "row = np.all(new_array_2 == new_array, axis=1)\n",
    "get_same = new_array_2[row]  \n",
    "print(get_same)"
   ]
  },
  {
   "cell_type": "code",
   "execution_count": 10,
   "id": "ccfa6606-0d86-41f0-a2d1-09476266b1e4",
   "metadata": {},
   "outputs": [
    {
     "name": "stdout",
     "output_type": "stream",
     "text": [
      "[[ 5. 10.  0.  5.]\n",
      " [35. 40. 30. 35.]\n",
      " [45. 50. 40. 45.]]\n"
     ]
    }
   ],
   "source": [
    "three_lines = get_same[:3]\n",
    "print(three_lines)"
   ]
  },
  {
   "cell_type": "code",
   "execution_count": 11,
   "id": "102863a1-a61c-4102-9413-613da5d1f4cc",
   "metadata": {},
   "outputs": [
    {
     "name": "stdout",
     "output_type": "stream",
     "text": [
      "[[45. 50. 40. 45.]\n",
      " [35. 40. 30. 35.]\n",
      " [ 5. 10.  0.  5.]]\n"
     ]
    }
   ],
   "source": [
    "three_lines[[0,2]]=three_lines[[2,0]]\n",
    "print(three_lines)"
   ]
  },
  {
   "cell_type": "code",
   "execution_count": 12,
   "id": "4f8d227c-499b-4511-9800-1efdb4aa8fa0",
   "metadata": {},
   "outputs": [
    {
     "name": "stdout",
     "output_type": "stream",
     "text": [
      "[45. 35.  5.]\n",
      "[45. 35.  5.]\n",
      "[3.53553391 3.53553391 3.53553391]\n"
     ]
    }
   ],
   "source": [
    "mean = np.mean(three_lines, axis = 1)\n",
    "median = np.median(three_lines, axis = 1)\n",
    "std = np.std(three_lines, axis = 1)\n",
    "print(mean)\n",
    "print(median)\n",
    "print(std)"
   ]
  },
  {
   "cell_type": "code",
   "execution_count": 15,
   "id": "c218e1d6-0b93-46c7-97f0-8b457c0abab8",
   "metadata": {},
   "outputs": [
    {
     "name": "stdout",
     "output_type": "stream",
     "text": [
      "[[0.9   1.    0.8   0.9  ]\n",
      " [0.875 1.    0.75  0.875]\n",
      " [0.5   1.    0.    0.5  ]]\n"
     ]
    }
   ],
   "source": [
    "maximum = np.max(three_lines, axis=1 , keepdims=True)\n",
    "normalisacia = three_lines/maximum\n",
    "print(normalisacia)"
   ]
  },
  {
   "cell_type": "code",
   "execution_count": 16,
   "id": "8cfe0950-b58c-444f-bb7c-b40312c6e3bc",
   "metadata": {},
   "outputs": [],
   "source": [
    "import pandas as pd"
   ]
  },
  {
   "cell_type": "code",
   "execution_count": 17,
   "id": "51916e95-e933-4caf-ba8c-c74936523249",
   "metadata": {},
   "outputs": [
    {
     "name": "stdout",
     "output_type": "stream",
     "text": [
      "          Country  Year Total Population Urban Population Rural Population  \\\n",
      "0     Afghanistan  2017                -                -                -   \n",
      "1     Afghanistan  2018       36,686,784        9,353,296       27,333,488   \n",
      "2     Afghanistan  2019       37,769,499        9,727,157       28,042,342   \n",
      "3     Afghanistan  2020       38,972,230       10,142,913       28,829,317   \n",
      "4     Afghanistan  2021       40,099,462       10,551,772       29,547,690   \n",
      "...           ...   ...              ...              ...              ...   \n",
      "1068     Zimbabwe  2017                -                -                -   \n",
      "1069     Zimbabwe  2018       15,052,184        4,848,158       10,204,026   \n",
      "1070     Zimbabwe  2019       15,354,608        4,945,719       10,408,889   \n",
      "1071     Zimbabwe  2020       15,669,666        5,052,214       10,617,452   \n",
      "1072     Zimbabwe  2021       15,993,524        5,166,388       10,827,136   \n",
      "\n",
      "     Population Density Life Expectancy  Birth Rate  Death Rate  \\\n",
      "0                    55            63.0      37.342       7.027   \n",
      "1                    56            63.0      36.927       6.981   \n",
      "2                    58            64.0      36.466       6.791   \n",
      "3                    60            63.0      36.051       7.113   \n",
      "4                     -            62.0      35.842       7.344   \n",
      "...                 ...             ...         ...         ...   \n",
      "1068                 38            61.0      32.516       8.266   \n",
      "1069                 39            61.0      32.074       7.972   \n",
      "1070                 40            61.0      31.518       8.043   \n",
      "1071                 41            61.0      31.009       8.132   \n",
      "1072                  -            59.0      30.537       9.057   \n",
      "\n",
      "     Fertility Rate Infant Mortality Rate Growth Rate  \n",
      "0             5.129                  49.4           -  \n",
      "1             5.002                  47.8         3.0  \n",
      "2              4.87                  46.3         3.0  \n",
      "3              4.75                  44.8         3.0  \n",
      "4             4.643                  43.4         3.0  \n",
      "...             ...                   ...         ...  \n",
      "1068          3.706                  39.5           -  \n",
      "1069          3.659                  38.0         2.0  \n",
      "1070          3.599                  37.1         2.0  \n",
      "1071          3.545                  36.6         2.0  \n",
      "1072          3.491                  35.7         2.0  \n",
      "\n",
      "[1073 rows x 12 columns]\n"
     ]
    }
   ],
   "source": [
    "file_path = r'C:\\Users\\Leyla\\Desktop\\Уник\\3 курс\\1 Биг дата\\Global Population Trends(2016-2022).csv'\n",
    "world = pd.read_csv(file_path)\n",
    "print(world)"
   ]
  },
  {
   "cell_type": "code",
   "execution_count": 18,
   "id": "50a49c88-2fa2-492c-af1d-f454602464f2",
   "metadata": {},
   "outputs": [
    {
     "name": "stdout",
     "output_type": "stream",
     "text": [
      "Index(['Country', 'Year', 'Total Population', 'Urban Population',\n",
      "       'Rural Population', 'Population Density', 'Life Expectancy',\n",
      "       'Birth Rate', 'Death Rate', 'Fertility Rate', 'Infant Mortality Rate',\n",
      "       'Growth Rate'],\n",
      "      dtype='object')\n"
     ]
    }
   ],
   "source": [
    "print(world.columns)"
   ]
  },
  {
   "cell_type": "code",
   "execution_count": 19,
   "id": "d73f6602-bbad-4e3c-9bea-5a752d58c8fa",
   "metadata": {},
   "outputs": [
    {
     "data": {
      "text/plain": [
       "(1073, 12)"
      ]
     },
     "execution_count": 19,
     "metadata": {},
     "output_type": "execute_result"
    }
   ],
   "source": [
    "world.shape"
   ]
  },
  {
   "cell_type": "code",
   "execution_count": 20,
   "id": "0e47f2b3-5ca1-4e2b-82dc-7d56956c6d35",
   "metadata": {},
   "outputs": [
    {
     "name": "stdout",
     "output_type": "stream",
     "text": [
      "Index(['Country', 'Year', 'Total Population', 'Urban Population',\n",
      "       'Rural Population', 'Population Density', 'Life Expectancy',\n",
      "       'Birth Rate', 'Death Rate', 'Fertility Rate', 'Infant Mortality Rate',\n",
      "       'Growth Rate'],\n",
      "      dtype='object')\n"
     ]
    }
   ],
   "source": [
    "print(world.columns)"
   ]
  },
  {
   "cell_type": "code",
   "execution_count": 21,
   "id": "574c7da9-3cb4-4451-95b4-42ac9eca62d3",
   "metadata": {},
   "outputs": [
    {
     "name": "stdout",
     "output_type": "stream",
     "text": [
      "Index(['Country', 'Year', 'Total Population', 'Urban Population',\n",
      "       'Rural Population', 'Population Density', 'Life Expectancy',\n",
      "       'Birth Rate', 'Death Rate', 'Fertility Rate', 'Infant Mortality Rate',\n",
      "       'Growth Rate'],\n",
      "      dtype='object')\n"
     ]
    }
   ],
   "source": [
    "print(world.columns)"
   ]
  },
  {
   "cell_type": "code",
   "execution_count": 22,
   "id": "792dda25-cf22-4d64-9abd-95de74bb5754",
   "metadata": {},
   "outputs": [
    {
     "name": "stdout",
     "output_type": "stream",
     "text": [
      "       Country  Year Total Population Urban Population Rural Population  \\\n",
      "0  Afghanistan  2017                -                -                -   \n",
      "1  Afghanistan  2018       36,686,784        9,353,296       27,333,488   \n",
      "2  Afghanistan  2019       37,769,499        9,727,157       28,042,342   \n",
      "\n",
      "  Population Density Life Expectancy  Birth Rate  Death Rate Fertility Rate  \\\n",
      "0                 55            63.0      37.342       7.027          5.129   \n",
      "1                 56            63.0      36.927       6.981          5.002   \n",
      "2                 58            64.0      36.466       6.791           4.87   \n",
      "\n",
      "  Infant Mortality Rate Growth Rate  \n",
      "0                  49.4           -  \n",
      "1                  47.8         3.0  \n",
      "2                  46.3         3.0  \n"
     ]
    }
   ],
   "source": [
    "print(world.head(3))"
   ]
  },
  {
   "cell_type": "code",
   "execution_count": 23,
   "id": "62a70d6f-c638-4b84-ad66-6a201092a6bc",
   "metadata": {},
   "outputs": [
    {
     "name": "stdout",
     "output_type": "stream",
     "text": [
      "<class 'pandas.core.frame.DataFrame'>\n",
      "RangeIndex: 1073 entries, 0 to 1072\n",
      "Data columns (total 12 columns):\n",
      " #   Column                 Non-Null Count  Dtype  \n",
      "---  ------                 --------------  -----  \n",
      " 0   Country                1073 non-null   object \n",
      " 1   Year                   1073 non-null   int64  \n",
      " 2   Total Population       1073 non-null   object \n",
      " 3   Urban Population       1073 non-null   object \n",
      " 4   Rural Population       1073 non-null   object \n",
      " 5   Population Density     1073 non-null   object \n",
      " 6   Life Expectancy        1073 non-null   object \n",
      " 7   Birth Rate             1073 non-null   float64\n",
      " 8   Death Rate             1073 non-null   float64\n",
      " 9   Fertility Rate         1073 non-null   object \n",
      " 10  Infant Mortality Rate  1073 non-null   object \n",
      " 11  Growth Rate            1073 non-null   object \n",
      "dtypes: float64(2), int64(1), object(9)\n",
      "memory usage: 100.7+ KB\n"
     ]
    }
   ],
   "source": [
    "world.info()"
   ]
  },
  {
   "cell_type": "code",
   "execution_count": 24,
   "id": "4e61e0b3-cf1d-4944-89ed-c87220abb4ad",
   "metadata": {},
   "outputs": [
    {
     "name": "stdout",
     "output_type": "stream",
     "text": [
      "          Country  Year Total Population Urban Population Rural Population  \\\n",
      "1     Afghanistan  2018       36,686,784        9,353,296       27,333,488   \n",
      "2     Afghanistan  2019       37,769,499        9,727,157       28,042,342   \n",
      "3     Afghanistan  2020       38,972,230       10,142,913       28,829,317   \n",
      "4     Afghanistan  2021       40,099,462       10,551,772       29,547,690   \n",
      "6         Albania  2018        2,866,376        1,728,969        1,137,407   \n",
      "...           ...   ...              ...              ...              ...   \n",
      "1067       Zambia  2021       19,473,125        8,800,295       10,672,830   \n",
      "1069     Zimbabwe  2018       15,052,184        4,848,158       10,204,026   \n",
      "1070     Zimbabwe  2019       15,354,608        4,945,719       10,408,889   \n",
      "1071     Zimbabwe  2020       15,669,666        5,052,214       10,617,452   \n",
      "1072     Zimbabwe  2021       15,993,524        5,166,388       10,827,136   \n",
      "\n",
      "     Population Density Life Expectancy  Birth Rate  Death Rate  \\\n",
      "1                    56            63.0      36.927       6.981   \n",
      "2                    58            64.0      36.466       6.791   \n",
      "3                    60            63.0      36.051       7.113   \n",
      "4                     -            62.0      35.842       7.344   \n",
      "6                   105            79.0      10.517       8.308   \n",
      "...                 ...             ...         ...         ...   \n",
      "1067                  -            61.0      34.511       6.973   \n",
      "1069                 39            61.0      32.074       7.972   \n",
      "1070                 40            61.0      31.518       8.043   \n",
      "1071                 41            61.0      31.009       8.132   \n",
      "1072                  -            59.0      30.537       9.057   \n",
      "\n",
      "     Fertility Rate Infant Mortality Rate Growth Rate  \n",
      "1             5.002                  47.8         3.0  \n",
      "2              4.87                  46.3         3.0  \n",
      "3              4.75                  44.8         3.0  \n",
      "4             4.643                  43.4         3.0  \n",
      "6              1.44                   8.3         0.0  \n",
      "...             ...                   ...         ...  \n",
      "1067          4.308                  40.2         3.0  \n",
      "1069          3.659                  38.0         2.0  \n",
      "1070          3.599                  37.1         2.0  \n",
      "1071          3.545                  36.6         2.0  \n",
      "1072          3.491                  35.7         2.0  \n",
      "\n",
      "[864 rows x 12 columns]\n"
     ]
    }
   ],
   "source": [
    "global_main = world.copy()\n",
    "world = world[world['Total Population'] != '-']\n",
    "print(world)"
   ]
  },
  {
   "cell_type": "code",
   "execution_count": 25,
   "id": "5e951ab8-878e-4381-94cc-f09b3e9172c5",
   "metadata": {},
   "outputs": [
    {
     "name": "stdout",
     "output_type": "stream",
     "text": [
      "              Year  Birth Rate  Death Rate\n",
      "count   864.000000  864.000000  864.000000\n",
      "mean   2019.500000   18.548384    7.889123\n",
      "std       1.118682    9.887518    3.041385\n",
      "min    2018.000000    0.000000    0.000000\n",
      "25%    2018.750000   10.500000    6.116500\n",
      "50%    2019.500000   15.628500    7.453500\n",
      "75%    2020.250000   25.565000    9.385000\n",
      "max    2021.000000   46.127000   21.700000\n",
      "Country                    Zimbabwe\n",
      "Year                           2021\n",
      "Total Population             99,258\n",
      "Urban Population         99,876,265\n",
      "Rural Population            998,397\n",
      "Population Density               99\n",
      "Life Expectancy                85.0\n",
      "Birth Rate                   46.127\n",
      "Death Rate                     21.7\n",
      "Fertility Rate                7.023\n",
      "Infant Mortality Rate           9.9\n",
      "Growth Rate                     5.0\n",
      "dtype: object\n",
      "Country                  Afghanistan\n",
      "Year                            2018\n",
      "Total Population           1,057,198\n",
      "Urban Population                   -\n",
      "Rural Population                   -\n",
      "Population Density                 -\n",
      "Life Expectancy                    -\n",
      "Birth Rate                       0.0\n",
      "Death Rate                       0.0\n",
      "Fertility Rate                     -\n",
      "Infant Mortality Rate              -\n",
      "Growth Rate                     -1.0\n",
      "dtype: object\n"
     ]
    }
   ],
   "source": [
    "print(world.describe())\n",
    "print(world.max())\n",
    "print(world.min())"
   ]
  },
  {
   "cell_type": "code",
   "execution_count": 26,
   "id": "534f36d7-4a29-4ad0-b3fe-9a85284e0de8",
   "metadata": {},
   "outputs": [
    {
     "name": "stdout",
     "output_type": "stream",
     "text": [
      "2021\n",
      "count    864.000000\n",
      "mean      18.548384\n",
      "std        9.887518\n",
      "min        0.000000\n",
      "25%       10.500000\n",
      "50%       15.628500\n",
      "75%       25.565000\n",
      "max       46.127000\n",
      "Name: Birth Rate, dtype: float64\n",
      "1,057,198\n"
     ]
    }
   ],
   "source": [
    "print(world[\"Year\"].max())\n",
    "print (world[\"Birth Rate\"].describe())\n",
    "print(world[\"Total Population\"].min())"
   ]
  },
  {
   "cell_type": "code",
   "execution_count": 27,
   "id": "0d397bbc-a410-413d-81e2-757043ca0900",
   "metadata": {},
   "outputs": [
    {
     "name": "stdout",
     "output_type": "stream",
     "text": [
      "       Country  Year Total Population Urban Population Rural Population  \\\n",
      "1  Afghanistan  2018       36,686,784        9,353,296       27,333,488   \n",
      "2  Afghanistan  2019       37,769,499        9,727,157       28,042,342   \n",
      "3  Afghanistan  2020       38,972,230       10,142,913       28,829,317   \n",
      "4  Afghanistan  2021       40,099,462       10,551,772       29,547,690   \n",
      "6      Albania  2018        2,866,376        1,728,969        1,137,407   \n",
      "\n",
      "  Population Density Life Expectancy  Birth Rate  Death Rate Fertility Rate  \\\n",
      "1                 56            63.0      36.927       6.981          5.002   \n",
      "2                 58            64.0      36.466       6.791           4.87   \n",
      "3                 60            63.0      36.051       7.113           4.75   \n",
      "4                  -            62.0      35.842       7.344          4.643   \n",
      "6                105            79.0      10.517       8.308           1.44   \n",
      "\n",
      "  Infant Mortality Rate Growth Rate  \n",
      "1                  47.8         3.0  \n",
      "2                  46.3         3.0  \n",
      "3                  44.8         3.0  \n",
      "4                  43.4         3.0  \n",
      "6                   8.3         0.0  \n"
     ]
    }
   ],
   "source": [
    "sort_country = world.sort_values(by=['Country'], ascending=[True])\n",
    "print(sort_country.head())"
   ]
  },
  {
   "cell_type": "code",
   "execution_count": 28,
   "id": "76e1663f-81cb-4c01-a640-083f3f973fdb",
   "metadata": {},
   "outputs": [
    {
     "name": "stdout",
     "output_type": "stream",
     "text": [
      "         Country  Year Total Population Urban Population Rural Population  \\\n",
      "832   Seychelles  2021           99,258           57,542           41,716   \n",
      "831   Seychelles  2020           98,462           56,661           41,801   \n",
      "830   Seychelles  2019           97,625           55,762           41,863   \n",
      "1047     Vietnam  2021       97,468,029       37,088,534       60,379,495   \n",
      "829   Seychelles  2018           96,762           54,855           41,907   \n",
      "\n",
      "     Population Density Life Expectancy  Birth Rate  Death Rate  \\\n",
      "832                   -            73.0      16.800       9.300   \n",
      "831                 214            77.0      15.800       6.800   \n",
      "830                 212            74.0      16.400       8.100   \n",
      "1047                  -            74.0      15.008       7.317   \n",
      "829                 210            73.0      17.100       8.400   \n",
      "\n",
      "     Fertility Rate Infant Mortality Rate Growth Rate  \n",
      "832            2.46                  12.0         1.0  \n",
      "831            2.29                  12.2         1.0  \n",
      "830            2.36                  12.4         1.0  \n",
      "1047          1.944                  16.4         1.0  \n",
      "829            2.41                  12.5         1.0  \n"
     ]
    }
   ],
   "source": [
    "sort = world.sort_values(by=['Total Population'], ascending=[False])\n",
    "print(sort.head())"
   ]
  },
  {
   "cell_type": "code",
   "execution_count": 29,
   "id": "a7334801-931c-439a-8163-1ec2dd828f09",
   "metadata": {},
   "outputs": [
    {
     "name": "stdout",
     "output_type": "stream",
     "text": [
      "       Country  Year Total Population Urban Population Rural Population  \\\n",
      "1069  Zimbabwe  2018       15,052,184        4,848,158       10,204,026   \n",
      "1070  Zimbabwe  2019       15,354,608        4,945,719       10,408,889   \n",
      "1071  Zimbabwe  2020       15,669,666        5,052,214       10,617,452   \n",
      "1072  Zimbabwe  2021       15,993,524        5,166,388       10,827,136   \n",
      "1064    Zambia  2018       17,835,893        7,762,359       10,073,534   \n",
      "\n",
      "     Population Density Life Expectancy  Birth Rate  Death Rate  \\\n",
      "1069                 39            61.0      32.074       7.972   \n",
      "1070                 40            61.0      31.518       8.043   \n",
      "1071                 41            61.0      31.009       8.132   \n",
      "1072                  -            59.0      30.537       9.057   \n",
      "1064                 24            62.0      36.040       6.748   \n",
      "\n",
      "     Fertility Rate Infant Mortality Rate Growth Rate  \n",
      "1069          3.659                  38.0         2.0  \n",
      "1070          3.599                  37.1         2.0  \n",
      "1071          3.545                  36.6         2.0  \n",
      "1072          3.491                  35.7         2.0  \n",
      "1064          4.536                  43.6         3.0  \n"
     ]
    }
   ],
   "source": [
    "sort_urban  =  world.sort_values(by=['Country','Urban Population'], ascending=[False, True])\n",
    "print(sort_urban.head())"
   ]
  },
  {
   "cell_type": "code",
   "execution_count": 30,
   "id": "5593ff5a-6495-4f33-be2f-d6cb871a9744",
   "metadata": {},
   "outputs": [
    {
     "name": "stdout",
     "output_type": "stream",
     "text": [
      "(864, 12)\n",
      "205\n",
      "страна с наибольшей популяцией China\n",
      "994\n",
      "страна с наименьшей популяцией Tuvalu\n"
     ]
    }
   ],
   "source": [
    "world2 = world.copy()\n",
    "print(world.shape)\n",
    "world2[\"Total Population\"] = world2[\"Total Population\"].str.replace(',', \"\").astype(float)\n",
    "maximum_pop = world2[\"Total Population\"].idxmax()\n",
    "print(maximum_pop)\n",
    "print('страна с наибольшей популяцией', global_main['Country'].iloc[maximum_pop])\n",
    "min_pop = world2[\"Total Population\"].idxmin()\n",
    "print(min_pop)\n",
    "print('страна с наименьшей популяцией', global_main['Country'].iloc[min_pop])"
   ]
  },
  {
   "cell_type": "code",
   "execution_count": 31,
   "id": "9cf8995a-7498-4ec7-a66d-754ad6e27a8d",
   "metadata": {},
   "outputs": [
    {
     "ename": "ModuleNotFoundError",
     "evalue": "No module named 'openpyxl'",
     "output_type": "error",
     "traceback": [
      "\u001b[1;31m---------------------------------------------------------------------------\u001b[0m",
      "\u001b[1;31mModuleNotFoundError\u001b[0m                       Traceback (most recent call last)",
      "Cell \u001b[1;32mIn[31], line 1\u001b[0m\n\u001b[1;32m----> 1\u001b[0m \u001b[43mworld\u001b[49m\u001b[38;5;241;43m.\u001b[39;49m\u001b[43mto_excel\u001b[49m\u001b[43m(\u001b[49m\u001b[38;5;124;43mr\u001b[39;49m\u001b[38;5;124;43m'\u001b[39;49m\u001b[38;5;124;43mC:\u001b[39;49m\u001b[38;5;124;43m\\\u001b[39;49m\u001b[38;5;124;43mUsers\u001b[39;49m\u001b[38;5;124;43m\\\u001b[39;49m\u001b[38;5;124;43mLeyla\u001b[39;49m\u001b[38;5;124;43m\\\u001b[39;49m\u001b[38;5;124;43mDesktop\u001b[39;49m\u001b[38;5;124;43m\\\u001b[39;49m\u001b[38;5;124;43mУник\u001b[39;49m\u001b[38;5;124;43m\\\u001b[39;49m\u001b[38;5;124;43m3 курс\u001b[39;49m\u001b[38;5;124;43m\\\u001b[39;49m\u001b[38;5;124;43m1 Биг дата\u001b[39;49m\u001b[38;5;124;43m\\\u001b[39;49m\u001b[38;5;124;43mLab2.xlsx\u001b[39;49m\u001b[38;5;124;43m'\u001b[39;49m\u001b[43m,\u001b[49m\u001b[43m \u001b[49m\u001b[43msheet_name\u001b[49m\u001b[38;5;241;43m=\u001b[39;49m\u001b[38;5;124;43m\"\u001b[39;49m\u001b[38;5;124;43mworld\u001b[39;49m\u001b[38;5;124;43m\"\u001b[39;49m\u001b[43m)\u001b[49m\n",
      "File \u001b[1;32m~\\Desktop\\Lab2_Bobrova\\.venv\\Lib\\site-packages\\pandas\\util\\_decorators.py:333\u001b[0m, in \u001b[0;36mdeprecate_nonkeyword_arguments.<locals>.decorate.<locals>.wrapper\u001b[1;34m(*args, **kwargs)\u001b[0m\n\u001b[0;32m    327\u001b[0m \u001b[38;5;28;01mif\u001b[39;00m \u001b[38;5;28mlen\u001b[39m(args) \u001b[38;5;241m>\u001b[39m num_allow_args:\n\u001b[0;32m    328\u001b[0m     warnings\u001b[38;5;241m.\u001b[39mwarn(\n\u001b[0;32m    329\u001b[0m         msg\u001b[38;5;241m.\u001b[39mformat(arguments\u001b[38;5;241m=\u001b[39m_format_argument_list(allow_args)),\n\u001b[0;32m    330\u001b[0m         \u001b[38;5;167;01mFutureWarning\u001b[39;00m,\n\u001b[0;32m    331\u001b[0m         stacklevel\u001b[38;5;241m=\u001b[39mfind_stack_level(),\n\u001b[0;32m    332\u001b[0m     )\n\u001b[1;32m--> 333\u001b[0m \u001b[38;5;28;01mreturn\u001b[39;00m \u001b[43mfunc\u001b[49m\u001b[43m(\u001b[49m\u001b[38;5;241;43m*\u001b[39;49m\u001b[43margs\u001b[49m\u001b[43m,\u001b[49m\u001b[43m \u001b[49m\u001b[38;5;241;43m*\u001b[39;49m\u001b[38;5;241;43m*\u001b[39;49m\u001b[43mkwargs\u001b[49m\u001b[43m)\u001b[49m\n",
      "File \u001b[1;32m~\\Desktop\\Lab2_Bobrova\\.venv\\Lib\\site-packages\\pandas\\core\\generic.py:2417\u001b[0m, in \u001b[0;36mNDFrame.to_excel\u001b[1;34m(self, excel_writer, sheet_name, na_rep, float_format, columns, header, index, index_label, startrow, startcol, engine, merge_cells, inf_rep, freeze_panes, storage_options, engine_kwargs)\u001b[0m\n\u001b[0;32m   2404\u001b[0m \u001b[38;5;28;01mfrom\u001b[39;00m \u001b[38;5;21;01mpandas\u001b[39;00m\u001b[38;5;21;01m.\u001b[39;00m\u001b[38;5;21;01mio\u001b[39;00m\u001b[38;5;21;01m.\u001b[39;00m\u001b[38;5;21;01mformats\u001b[39;00m\u001b[38;5;21;01m.\u001b[39;00m\u001b[38;5;21;01mexcel\u001b[39;00m \u001b[38;5;28;01mimport\u001b[39;00m ExcelFormatter\n\u001b[0;32m   2406\u001b[0m formatter \u001b[38;5;241m=\u001b[39m ExcelFormatter(\n\u001b[0;32m   2407\u001b[0m     df,\n\u001b[0;32m   2408\u001b[0m     na_rep\u001b[38;5;241m=\u001b[39mna_rep,\n\u001b[1;32m   (...)\u001b[0m\n\u001b[0;32m   2415\u001b[0m     inf_rep\u001b[38;5;241m=\u001b[39minf_rep,\n\u001b[0;32m   2416\u001b[0m )\n\u001b[1;32m-> 2417\u001b[0m \u001b[43mformatter\u001b[49m\u001b[38;5;241;43m.\u001b[39;49m\u001b[43mwrite\u001b[49m\u001b[43m(\u001b[49m\n\u001b[0;32m   2418\u001b[0m \u001b[43m    \u001b[49m\u001b[43mexcel_writer\u001b[49m\u001b[43m,\u001b[49m\n\u001b[0;32m   2419\u001b[0m \u001b[43m    \u001b[49m\u001b[43msheet_name\u001b[49m\u001b[38;5;241;43m=\u001b[39;49m\u001b[43msheet_name\u001b[49m\u001b[43m,\u001b[49m\n\u001b[0;32m   2420\u001b[0m \u001b[43m    \u001b[49m\u001b[43mstartrow\u001b[49m\u001b[38;5;241;43m=\u001b[39;49m\u001b[43mstartrow\u001b[49m\u001b[43m,\u001b[49m\n\u001b[0;32m   2421\u001b[0m \u001b[43m    \u001b[49m\u001b[43mstartcol\u001b[49m\u001b[38;5;241;43m=\u001b[39;49m\u001b[43mstartcol\u001b[49m\u001b[43m,\u001b[49m\n\u001b[0;32m   2422\u001b[0m \u001b[43m    \u001b[49m\u001b[43mfreeze_panes\u001b[49m\u001b[38;5;241;43m=\u001b[39;49m\u001b[43mfreeze_panes\u001b[49m\u001b[43m,\u001b[49m\n\u001b[0;32m   2423\u001b[0m \u001b[43m    \u001b[49m\u001b[43mengine\u001b[49m\u001b[38;5;241;43m=\u001b[39;49m\u001b[43mengine\u001b[49m\u001b[43m,\u001b[49m\n\u001b[0;32m   2424\u001b[0m \u001b[43m    \u001b[49m\u001b[43mstorage_options\u001b[49m\u001b[38;5;241;43m=\u001b[39;49m\u001b[43mstorage_options\u001b[49m\u001b[43m,\u001b[49m\n\u001b[0;32m   2425\u001b[0m \u001b[43m    \u001b[49m\u001b[43mengine_kwargs\u001b[49m\u001b[38;5;241;43m=\u001b[39;49m\u001b[43mengine_kwargs\u001b[49m\u001b[43m,\u001b[49m\n\u001b[0;32m   2426\u001b[0m \u001b[43m\u001b[49m\u001b[43m)\u001b[49m\n",
      "File \u001b[1;32m~\\Desktop\\Lab2_Bobrova\\.venv\\Lib\\site-packages\\pandas\\io\\formats\\excel.py:943\u001b[0m, in \u001b[0;36mExcelFormatter.write\u001b[1;34m(self, writer, sheet_name, startrow, startcol, freeze_panes, engine, storage_options, engine_kwargs)\u001b[0m\n\u001b[0;32m    941\u001b[0m     need_save \u001b[38;5;241m=\u001b[39m \u001b[38;5;28;01mFalse\u001b[39;00m\n\u001b[0;32m    942\u001b[0m \u001b[38;5;28;01melse\u001b[39;00m:\n\u001b[1;32m--> 943\u001b[0m     writer \u001b[38;5;241m=\u001b[39m \u001b[43mExcelWriter\u001b[49m\u001b[43m(\u001b[49m\n\u001b[0;32m    944\u001b[0m \u001b[43m        \u001b[49m\u001b[43mwriter\u001b[49m\u001b[43m,\u001b[49m\n\u001b[0;32m    945\u001b[0m \u001b[43m        \u001b[49m\u001b[43mengine\u001b[49m\u001b[38;5;241;43m=\u001b[39;49m\u001b[43mengine\u001b[49m\u001b[43m,\u001b[49m\n\u001b[0;32m    946\u001b[0m \u001b[43m        \u001b[49m\u001b[43mstorage_options\u001b[49m\u001b[38;5;241;43m=\u001b[39;49m\u001b[43mstorage_options\u001b[49m\u001b[43m,\u001b[49m\n\u001b[0;32m    947\u001b[0m \u001b[43m        \u001b[49m\u001b[43mengine_kwargs\u001b[49m\u001b[38;5;241;43m=\u001b[39;49m\u001b[43mengine_kwargs\u001b[49m\u001b[43m,\u001b[49m\n\u001b[0;32m    948\u001b[0m \u001b[43m    \u001b[49m\u001b[43m)\u001b[49m\n\u001b[0;32m    949\u001b[0m     need_save \u001b[38;5;241m=\u001b[39m \u001b[38;5;28;01mTrue\u001b[39;00m\n\u001b[0;32m    951\u001b[0m \u001b[38;5;28;01mtry\u001b[39;00m:\n",
      "File \u001b[1;32m~\\Desktop\\Lab2_Bobrova\\.venv\\Lib\\site-packages\\pandas\\io\\excel\\_openpyxl.py:57\u001b[0m, in \u001b[0;36mOpenpyxlWriter.__init__\u001b[1;34m(self, path, engine, date_format, datetime_format, mode, storage_options, if_sheet_exists, engine_kwargs, **kwargs)\u001b[0m\n\u001b[0;32m     44\u001b[0m \u001b[38;5;28;01mdef\u001b[39;00m \u001b[38;5;21m__init__\u001b[39m(\n\u001b[0;32m     45\u001b[0m     \u001b[38;5;28mself\u001b[39m,\n\u001b[0;32m     46\u001b[0m     path: FilePath \u001b[38;5;241m|\u001b[39m WriteExcelBuffer \u001b[38;5;241m|\u001b[39m ExcelWriter,\n\u001b[1;32m   (...)\u001b[0m\n\u001b[0;32m     55\u001b[0m ) \u001b[38;5;241m-\u001b[39m\u001b[38;5;241m>\u001b[39m \u001b[38;5;28;01mNone\u001b[39;00m:\n\u001b[0;32m     56\u001b[0m     \u001b[38;5;66;03m# Use the openpyxl module as the Excel writer.\u001b[39;00m\n\u001b[1;32m---> 57\u001b[0m     \u001b[38;5;28;01mfrom\u001b[39;00m \u001b[38;5;21;01mopenpyxl\u001b[39;00m\u001b[38;5;21;01m.\u001b[39;00m\u001b[38;5;21;01mworkbook\u001b[39;00m \u001b[38;5;28;01mimport\u001b[39;00m Workbook\n\u001b[0;32m     59\u001b[0m     engine_kwargs \u001b[38;5;241m=\u001b[39m combine_kwargs(engine_kwargs, kwargs)\n\u001b[0;32m     61\u001b[0m     \u001b[38;5;28msuper\u001b[39m()\u001b[38;5;241m.\u001b[39m\u001b[38;5;21m__init__\u001b[39m(\n\u001b[0;32m     62\u001b[0m         path,\n\u001b[0;32m     63\u001b[0m         mode\u001b[38;5;241m=\u001b[39mmode,\n\u001b[1;32m   (...)\u001b[0m\n\u001b[0;32m     66\u001b[0m         engine_kwargs\u001b[38;5;241m=\u001b[39mengine_kwargs,\n\u001b[0;32m     67\u001b[0m     )\n",
      "\u001b[1;31mModuleNotFoundError\u001b[0m: No module named 'openpyxl'"
     ]
    }
   ],
   "source": [
    "world.to_excel(r'C:\\Users\\Leyla\\Desktop\\Уник\\3 курс\\1 Биг дата\\Lab2.xlsx', sheet_name=\"world\")"
   ]
  },
  {
   "cell_type": "code",
   "execution_count": null,
   "id": "5f90e5a9-1931-4528-bee3-42eb8137abaf",
   "metadata": {},
   "outputs": [],
   "source": []
  }
 ],
 "metadata": {
  "kernelspec": {
   "display_name": "Python 3 (ipykernel)",
   "language": "python",
   "name": "python3"
  },
  "language_info": {
   "codemirror_mode": {
    "name": "ipython",
    "version": 3
   },
   "file_extension": ".py",
   "mimetype": "text/x-python",
   "name": "python",
   "nbconvert_exporter": "python",
   "pygments_lexer": "ipython3",
   "version": "3.12.4"
  }
 },
 "nbformat": 4,
 "nbformat_minor": 5
}
